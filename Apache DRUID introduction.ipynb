{
 "cells": [
  {
   "cell_type": "markdown",
   "metadata": {},
   "source": [
    "# Apache Druid"
   ]
  },
  {
   "cell_type": "markdown",
   "metadata": {},
   "source": [
    "![Apache DRUID](https://camo.githubusercontent.com/611fe775b2c89290a8c074b3027d1a5b61a9d5fd/687474703a2f2f7777772e6d616c696e67612e6d652f77702d636f6e74656e742f75706c6f6164732f323031372f30382f44727569645f4d61737465724c6f676f5f46756c6c2d436f6c6f725472616e73706172656e742e706e67)"
   ]
  },
  {
   "cell_type": "markdown",
   "metadata": {},
   "source": [
    "Apache Druid (incubating) is a high performance analytics data store for event-driven data.\n",
    "\n",
    "Druid’s core design combines ideas from OLAP/analytic databases, timeseries databases, and search systems to create a unified system for operational analytics.\n",
    "\n",
    "Druid is a real-time columnar timeseries database."
   ]
  },
  {
   "cell_type": "markdown",
   "metadata": {},
   "source": [
    "# Who is using Apache DRUID"
   ]
  },
  {
   "cell_type": "markdown",
   "metadata": {},
   "source": [
    "Druid is being used by quite a few big players in the tech market. The druid website maintains a list of companies using Druid in their architecture.\n",
    "\n",
    "A non-exhaustive list of them:\n",
    "\n",
    "##### Metamarkets: They created to Druid to power their programmatic reporting.\n",
    "##### Netflix: To monitor their infrastructure. They ingest ~2TB/hour.\n",
    "##### AirBNB: To get rapid and interactive insight about the users.\n",
    "##### Optimizely: Druid to power the results dashboard for Optimizely Personalization.\n",
    "##### Walmart: They made a good post about their Event Analytics Stream.\n",
    "\n",
    "#### A lot of others…"
   ]
  },
  {
   "cell_type": "markdown",
   "metadata": {},
   "source": [
    "![Apache DRUID](https://miro.medium.com/max/738/0*g4gvGBMiU0A8frVo.png)"
   ]
  }
 ],
 "metadata": {
  "kernelspec": {
   "display_name": "Python 3",
   "language": "python",
   "name": "python3"
  },
  "language_info": {
   "codemirror_mode": {
    "name": "ipython",
    "version": 3
   },
   "file_extension": ".py",
   "mimetype": "text/x-python",
   "name": "python",
   "nbconvert_exporter": "python",
   "pygments_lexer": "ipython3",
   "version": "3.7.3"
  }
 },
 "nbformat": 4,
 "nbformat_minor": 2
}
